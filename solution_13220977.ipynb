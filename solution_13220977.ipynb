{
 "cells": [
  {
   "cell_type": "code",
   "execution_count": null,
   "id": "862f8b67",
   "metadata": {},
   "outputs": [],
   "source": [
    "print(\"HelloWorld!\")\n",
    "# import numpy as np\n",
    "# import pandas as pd\n",
    "# import matplotlib.pyplot as plt\n",
    "# import seaborn as sns"
   ]
  },
  {
   "cell_type": "code",
   "execution_count": null,
   "id": "c9acf2fc",
   "metadata": {},
   "outputs": [],
   "source": [
    "def read_csv(filename: str) -> pd.DataFrame:\n",
    "    df = pd.read_csv(filename, sep=';', decimal=',')\n",
    "    return clean_df(df)\n",
    "\n",
    "def clean_df(df: pd.DataFrame):\n",
    "    df[\"students_norm\"] = pd.Series((df[\"WO [x1000]\"] / df[\"WO [x1000]\"].abs().min()), dtype=float)\n",
    "    df[\"consumed_norm\"] = pd.Series((df[\"NL Beer consumption [x1000 hectoliter]\"] / df[\"NL Beer consumption [x1000 hectoliter]\"].abs().min()), dtype=float)\n",
    "    return df"
   ]
  },
  {
   "cell_type": "code",
   "execution_count": null,
   "id": "5269ea21",
   "metadata": {},
   "outputs": [],
   "source": [
    "filename = \"istherecorrelation.csv\"\n",
    "df = read_csv(filename)\n",
    "df = clean_df(df)\n",
    "df.head(10)"
   ]
  },
  {
   "cell_type": "code",
   "execution_count": null,
   "id": "29a6c8e2",
   "metadata": {},
   "outputs": [],
   "source": [
    "\n",
    "def plot_line(df: pd.DataFrame):\n",
    "    fig = df[[\"Year\", \"WO [x1000]\", \"NL Beer consumption [x1000 hectoliter]\"]].plot(\n",
    "        x=\"Year\",\n",
    "        secondary_y=[\"NL Beer consumption [x1000 hectoliter]\"]\n",
    "        )\n",
    "    fig.set_ylabel(\"N students [x1000]\")\n",
    "    fig.right_ax.set_ylabel(\"litres of beer consumed [x1000 hectoliter]\")\n",
    "    return fig\n",
    "\n",
    "def plot(df: pd.DataFrame):\n",
    "    fig, ax1 = plt.subplots(1, 1, sharex=True, figsize=(10, 6))\n",
    "    df[[\"Year\", \"WO [x1000]\", \"NL Beer consumption [x1000 hectoliter]\"]].plot(\n",
    "        x=\"Year\",\n",
    "        secondary_y=[\"NL Beer consumption [x1000 hectoliter]\"],\n",
    "        ax=ax1\n",
    "        )\n",
    "    fig.axes[1].set_xlabel(\"Year\")\n",
    "    return fig\n",
    "\n",
    "fig = plot(df)"
   ]
  },
  {
   "cell_type": "code",
   "execution_count": null,
   "id": "8409a169",
   "metadata": {},
   "outputs": [],
   "source": []
  },
  {
   "cell_type": "code",
   "execution_count": null,
   "id": "e3b83f12",
   "metadata": {},
   "outputs": [],
   "source": []
  }
 ],
 "metadata": {
  "kernelspec": {
   "display_name": "Julia 1.11.6",
   "language": "julia",
   "name": "julia-1.11"
  },
  "language_info": {
   "file_extension": ".jl",
   "mimetype": "application/julia",
   "name": "julia",
   "version": "1.11.6"
  }
 },
 "nbformat": 4,
 "nbformat_minor": 5
}
